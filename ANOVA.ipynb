{
 "cells": [
  {
   "cell_type": "markdown",
   "metadata": {},
   "source": [
    "# Import thư viện"
   ]
  },
  {
   "cell_type": "code",
   "execution_count": 1,
   "metadata": {},
   "outputs": [],
   "source": [
    "import numpy as np\n",
    "import pandas as pd\n",
    "from sklearn.preprocessing import MinMaxScaler"
   ]
  },
  {
   "cell_type": "markdown",
   "metadata": {},
   "source": [
    "# Đọc và xử lý dữ liệu số"
   ]
  },
  {
   "cell_type": "code",
   "execution_count": 2,
   "metadata": {},
   "outputs": [],
   "source": [
    "def read_data_number(data_path, time_col=\"thoi_gian\"):\n",
    "    # Đọc dữ liệu từ file CSV\n",
    "    data = pd.read_csv(data_path)\n",
    "    \n",
    "    # Chuyển đổi cột thời gian sang kiểu datetime và đặt làm index\n",
    "    data[time_col] = pd.to_datetime(data[time_col])\n",
    "    data.set_index(time_col, inplace=True)\n",
    "    \n",
    "    # Tái lấy mẫu và tính toán thống kê\n",
    "    y_t = data[['Mực nước hồ (m)', 'Lưu lượng đến hồ (m³/s)']].resample(\"D\").mean()\n",
    "    \n",
    "    return y_t"
   ]
  },
  {
   "cell_type": "code",
   "execution_count": 3,
   "metadata": {},
   "outputs": [],
   "source": [
    "def create_dataframe(y_t, time_col=\"thoi_gian\", value_col_1=\"y_t_1\", value_col_2=\"y_t_2\"):\n",
    "    df = pd.DataFrame({time_col: y_t.index, \n",
    "                       value_col_1: y_t['Mực nước hồ (m)'].values, \n",
    "                       value_col_2: y_t['Lưu lượng đến hồ (m³/s)'].values})\n",
    "    return df"
   ]
  },
  {
   "cell_type": "code",
   "execution_count": 4,
   "metadata": {},
   "outputs": [],
   "source": [
    "def create_dataset(X, y, n_steps=1):\n",
    "    Xs, ys = [], []\n",
    "    for i in range(len(X) - n_steps):\n",
    "        Xs.append(X[i:i+n_steps])\n",
    "        ys.append(y[i+n_steps])\n",
    "    return np.array(Xs), np.array(ys)"
   ]
  },
  {
   "cell_type": "code",
   "execution_count": 5,
   "metadata": {},
   "outputs": [],
   "source": [
    "# Chuẩn hóa dữ liệu\n",
    "def scaler(df, time_steps):\n",
    "    scaler_X = MinMaxScaler()\n",
    "    scaler_y = MinMaxScaler()\n",
    "\n",
    "    X = df[['y_t_1', 'y_t_2']]\n",
    "    y = df[['y_t_1']]\n",
    "\n",
    "    X = scaler_X.fit_transform(X)\n",
    "    y = scaler_y.fit_transform(y)\n",
    "\n",
    "    # Tạo nhãn cho dữ liệu\n",
    "    X_data, y_data = create_dataset(X, y, time_steps)\n",
    "\n",
    "    return scaler_X, scaler_y, X_data, y_data"
   ]
  },
  {
   "cell_type": "code",
   "execution_count": 6,
   "metadata": {},
   "outputs": [],
   "source": [
    "# Khôi phục dữ liệu sau chuẩn hóa\n",
    "def inverse_transform_data(scaler, y_pred):\n",
    "    y_pred_predict = scaler.inverse_transform(y_pred)\n",
    "    y_pred_predict = pd.DataFrame(y_pred_predict)\n",
    "\n",
    "    return y_pred_predict"
   ]
  },
  {
   "cell_type": "code",
   "execution_count": 7,
   "metadata": {},
   "outputs": [],
   "source": [
    "# Chuẩn hóa dữ liệu\n",
    "def split_data(X_data, y_data, val_length, time_steps):\n",
    "    # Chia dữ liệu thành tập huấn luyện, kiểm tra và test\n",
    "    X_test, y_test = X_data[-val_length:], y_data[-val_length:]\n",
    "\n",
    "    # Reshape dữ liệu đầu vào\n",
    "    X_test = X_test.reshape(X_test.shape[0], time_steps, X_test.shape[2])\n",
    "\n",
    "    return X_test, y_test"
   ]
  },
  {
   "cell_type": "code",
   "execution_count": 8,
   "metadata": {},
   "outputs": [],
   "source": [
    "# Đọc dữ liệu đầu vào\n",
    "path_data = r\"E:\\CoChau\\2025_Fusion_Data\\DataSetAnKhe\\data_so_AnKhe\\AnKhe.csv\"\n",
    "data = read_data_number(path_data, time_col=\"thoi_gian\")\n",
    "\n",
    "# Tạo DataFrame chứa thời gian và mực nước\n",
    "y_t = create_dataframe(data, time_col=\"thoi_gian\", value_col_1=\"y_t_1\", value_col_2=\"y_t_2\")"
   ]
  },
  {
   "cell_type": "code",
   "execution_count": 9,
   "metadata": {},
   "outputs": [],
   "source": [
    "time_steps = 7\n",
    "scaler_X, scaler_y, X_data, y_data = scaler(y_t, time_steps)\n",
    "\n",
    "\n",
    "train_length = int(len(X_data) * 0.7)\n",
    "val_length = int((len(X_data) - train_length) / 2)\n",
    "X_test, y_test = split_data(X_data, y_data, val_length, time_steps)"
   ]
  },
  {
   "cell_type": "code",
   "execution_count": 10,
   "metadata": {},
   "outputs": [
    {
     "data": {
      "text/html": [
       "<div>\n",
       "<style scoped>\n",
       "    .dataframe tbody tr th:only-of-type {\n",
       "        vertical-align: middle;\n",
       "    }\n",
       "\n",
       "    .dataframe tbody tr th {\n",
       "        vertical-align: top;\n",
       "    }\n",
       "\n",
       "    .dataframe thead th {\n",
       "        text-align: right;\n",
       "    }\n",
       "</style>\n",
       "<table border=\"1\" class=\"dataframe\">\n",
       "  <thead>\n",
       "    <tr style=\"text-align: right;\">\n",
       "      <th></th>\n",
       "      <th>thoi_gian</th>\n",
       "      <th>y_t_1</th>\n",
       "      <th>y_t_2</th>\n",
       "    </tr>\n",
       "  </thead>\n",
       "  <tbody>\n",
       "    <tr>\n",
       "      <th>1553</th>\n",
       "      <td>2023-04-03</td>\n",
       "      <td>427.603750</td>\n",
       "      <td>18.408750</td>\n",
       "    </tr>\n",
       "    <tr>\n",
       "      <th>1554</th>\n",
       "      <td>2023-04-04</td>\n",
       "      <td>428.247500</td>\n",
       "      <td>25.220000</td>\n",
       "    </tr>\n",
       "    <tr>\n",
       "      <th>1555</th>\n",
       "      <td>2023-04-05</td>\n",
       "      <td>427.504583</td>\n",
       "      <td>17.703750</td>\n",
       "    </tr>\n",
       "    <tr>\n",
       "      <th>1556</th>\n",
       "      <td>2023-04-06</td>\n",
       "      <td>427.929583</td>\n",
       "      <td>12.675417</td>\n",
       "    </tr>\n",
       "    <tr>\n",
       "      <th>1557</th>\n",
       "      <td>2023-04-07</td>\n",
       "      <td>427.941250</td>\n",
       "      <td>34.207083</td>\n",
       "    </tr>\n",
       "    <tr>\n",
       "      <th>...</th>\n",
       "      <td>...</td>\n",
       "      <td>...</td>\n",
       "      <td>...</td>\n",
       "    </tr>\n",
       "    <tr>\n",
       "      <th>1821</th>\n",
       "      <td>2023-12-27</td>\n",
       "      <td>428.105833</td>\n",
       "      <td>3.659583</td>\n",
       "    </tr>\n",
       "    <tr>\n",
       "      <th>1822</th>\n",
       "      <td>2023-12-28</td>\n",
       "      <td>428.084583</td>\n",
       "      <td>6.904167</td>\n",
       "    </tr>\n",
       "    <tr>\n",
       "      <th>1823</th>\n",
       "      <td>2023-12-29</td>\n",
       "      <td>428.085000</td>\n",
       "      <td>7.337083</td>\n",
       "    </tr>\n",
       "    <tr>\n",
       "      <th>1824</th>\n",
       "      <td>2023-12-30</td>\n",
       "      <td>428.030000</td>\n",
       "      <td>4.776667</td>\n",
       "    </tr>\n",
       "    <tr>\n",
       "      <th>1825</th>\n",
       "      <td>2023-12-31</td>\n",
       "      <td>427.865833</td>\n",
       "      <td>4.940417</td>\n",
       "    </tr>\n",
       "  </tbody>\n",
       "</table>\n",
       "<p>273 rows × 3 columns</p>\n",
       "</div>"
      ],
      "text/plain": [
       "      thoi_gian       y_t_1      y_t_2\n",
       "1553 2023-04-03  427.603750  18.408750\n",
       "1554 2023-04-04  428.247500  25.220000\n",
       "1555 2023-04-05  427.504583  17.703750\n",
       "1556 2023-04-06  427.929583  12.675417\n",
       "1557 2023-04-07  427.941250  34.207083\n",
       "...         ...         ...        ...\n",
       "1821 2023-12-27  428.105833   3.659583\n",
       "1822 2023-12-28  428.084583   6.904167\n",
       "1823 2023-12-29  428.085000   7.337083\n",
       "1824 2023-12-30  428.030000   4.776667\n",
       "1825 2023-12-31  427.865833   4.940417\n",
       "\n",
       "[273 rows x 3 columns]"
      ]
     },
     "execution_count": 10,
     "metadata": {},
     "output_type": "execute_result"
    }
   ],
   "source": [
    "y_target = y_t[-val_length:]\n",
    "y_target"
   ]
  },
  {
   "cell_type": "markdown",
   "metadata": {},
   "source": [
    "# Đánh giá ANOVA trên các mô hình"
   ]
  },
  {
   "cell_type": "markdown",
   "metadata": {},
   "source": [
    "### Gọi các mô hình"
   ]
  },
  {
   "cell_type": "code",
   "execution_count": 11,
   "metadata": {},
   "outputs": [
    {
     "name": "stdout",
     "output_type": "stream",
     "text": [
      "WARNING:tensorflow:From c:\\Users\\ductr\\AppData\\Local\\Programs\\Python\\Python39\\lib\\site-packages\\keras\\src\\losses.py:2976: The name tf.losses.sparse_softmax_cross_entropy is deprecated. Please use tf.compat.v1.losses.sparse_softmax_cross_entropy instead.\n",
      "\n"
     ]
    }
   ],
   "source": [
    "from keras.models import load_model"
   ]
  },
  {
   "cell_type": "code",
   "execution_count": 15,
   "metadata": {},
   "outputs": [
    {
     "name": "stdout",
     "output_type": "stream",
     "text": [
      "9/9 [==============================] - 0s 709us/step\n",
      "Lần 1 - Mean: 0    428.370087\n",
      "dtype: float32, Std: 0    0.308101\n",
      "dtype: float32\n",
      "9/9 [==============================] - 0s 783us/step\n",
      "Lần 2 - Mean: 0    428.372192\n",
      "dtype: float32, Std: 0    0.278872\n",
      "dtype: float32\n",
      "9/9 [==============================] - 0s 2ms/step\n",
      "Lần 3 - Mean: 0    428.358276\n",
      "dtype: float32, Std: 0    0.309633\n",
      "dtype: float32\n"
     ]
    }
   ],
   "source": [
    "# Mô hình RNN\n",
    "results_rnn = [] \n",
    "for i in range(3):\n",
    "    model_rnn = load_model(f'./BestModel/best_model_goc_RNN_{i+1}.hdf5')\n",
    "\n",
    "    y_pred_rnn = model_rnn.predict(X_test)\n",
    "    y_pred_rnn = inverse_transform_data(scaler_y, y_pred_rnn)\n",
    "\n",
    "    # Tính mean và std\n",
    "    y_pred_rnn_mean = y_pred_rnn.mean()\n",
    "    y_pred_rnn_std = y_pred_rnn.std()\n",
    "    print(f\"Lần {i+1} - Mean: {y_pred_rnn_mean}, Std: {y_pred_rnn_std}\")\n",
    "\n",
    "    results_rnn.append(y_pred_rnn)"
   ]
  },
  {
   "cell_type": "code",
   "execution_count": 16,
   "metadata": {},
   "outputs": [
    {
     "name": "stdout",
     "output_type": "stream",
     "text": [
      "9/9 [==============================] - 0s 0s/step\n",
      "Lần 1 - Mean: 0    428.358246\n",
      "dtype: float32, Std: 0    0.329898\n",
      "dtype: float32\n",
      "9/9 [==============================] - 0s 56us/step\n",
      "Lần 2 - Mean: 0    428.360931\n",
      "dtype: float32, Std: 0    0.271178\n",
      "dtype: float32\n",
      "9/9 [==============================] - 0s 2ms/step\n",
      "Lần 3 - Mean: 0    428.356781\n",
      "dtype: float32, Std: 0    0.326583\n",
      "dtype: float32\n"
     ]
    }
   ],
   "source": [
    "# Mô hình LSTM\n",
    "results_lstm = []\n",
    "for i in range(3):\n",
    "    model_lstm = load_model(f'./BestModel/best_model_goc_LSTM_{i+1}.hdf5')\n",
    "\n",
    "    y_pred_lstm = model_lstm.predict(X_test)\n",
    "    y_pred_lstm = inverse_transform_data(scaler_y, y_pred_lstm)\n",
    "\n",
    "    # Tính mean và std\n",
    "    y_pred_lstm_mean = y_pred_lstm.mean()\n",
    "    y_pred_lstm_std = y_pred_lstm.std()\n",
    "    print(f\"Lần {i+1} - Mean: {y_pred_lstm_mean}, Std: {y_pred_lstm_std}\")\n",
    "    \n",
    "    results_lstm.append(y_pred_lstm)"
   ]
  },
  {
   "cell_type": "code",
   "execution_count": 17,
   "metadata": {},
   "outputs": [
    {
     "name": "stdout",
     "output_type": "stream",
     "text": [
      "9/9 [==============================] - 0s 2ms/step\n",
      "Lần 1 - Mean: 0    428.372192\n",
      "dtype: float32, Std: 0    0.313178\n",
      "dtype: float32\n",
      "9/9 [==============================] - 0s 3ms/step\n",
      "Lần 2 - Mean: 0    428.352783\n",
      "dtype: float32, Std: 0    0.322372\n",
      "dtype: float32\n",
      "9/9 [==============================] - 0s 2ms/step\n",
      "Lần 3 - Mean: 0    428.348602\n",
      "dtype: float32, Std: 0    0.332251\n",
      "dtype: float32\n"
     ]
    }
   ],
   "source": [
    "# Mô hình GRU\n",
    "results_gru = []\n",
    "for i in range(3):\n",
    "    model_gru = load_model(f'./BestModel/best_model_goc_GRU_{i+1}.hdf5')\n",
    "\n",
    "    y_pred_gru = model_gru.predict(X_test)\n",
    "    y_pred_gru = inverse_transform_data(scaler_y, y_pred_gru)\n",
    "\n",
    "    # Tính mean và std\n",
    "    y_pred_gru_mean = y_pred_gru.mean()\n",
    "    y_pred_gru_std = y_pred_gru.std()\n",
    "    print(f\"Lần {i+1} - Mean: {y_pred_gru_mean}, Std: {y_pred_gru_std}\")\n",
    "    \n",
    "    results_gru.append(y_pred_gru)"
   ]
  },
  {
   "cell_type": "markdown",
   "metadata": {},
   "source": [
    "### Đánh giá ANOVA với sự khác biệt về giá trị dự báo giữa các mô hình"
   ]
  },
  {
   "cell_type": "code",
   "execution_count": 18,
   "metadata": {},
   "outputs": [],
   "source": [
    "import numpy as np\n",
    "import pandas as pd\n",
    "import statsmodels.api as sm\n",
    "from statsmodels.formula.api import ols"
   ]
  },
  {
   "cell_type": "code",
   "execution_count": null,
   "metadata": {},
   "outputs": [
    {
     "name": "stdout",
     "output_type": "stream",
     "text": [
      "Shape of df_anova: (2457, 4)\n",
      "    thoi_gian model       value replicate\n",
      "0  2023-04-03   RNN  428.295807     run_1\n",
      "1  2023-04-04   RNN  427.473511     run_1\n",
      "2  2023-04-05   RNN  428.526306     run_1\n",
      "3  2023-04-06   RNN  427.324097     run_1\n",
      "4  2023-04-07   RNN  428.183807     run_1\n",
      "count    2457.000000\n",
      "mean      428.361115\n",
      "std         0.310509\n",
      "min       427.249023\n",
      "25%       428.148285\n",
      "50%       428.397614\n",
      "75%       428.583618\n",
      "max       428.901794\n",
      "Name: value, dtype: float64\n",
      "                           sum_sq      df           F        PR(>F)\n",
      "C(model)                 0.040598     2.0   14.851377  4.054255e-07\n",
      "C(thoi_gian)           234.129162   272.0  629.764255  0.000000e+00\n",
      "C(model):C(thoi_gian)    0.388758   544.0    0.522843  1.000000e+00\n",
      "Residual                 2.238837  1638.0         NaN           NaN\n"
     ]
    }
   ],
   "source": [
    "# 1) Chuẩn bị biến 'thoi_gian'\n",
    "dates = pd.to_datetime(y_target['thoi_gian'])\n",
    "dates_cat = dates.dt.strftime('%Y-%m-%d').astype('category')\n",
    "\n",
    "# 2) Flatten mảng dự báo\n",
    "rnn_1  = np.asarray(results_rnn[0]).ravel()\n",
    "rnn_2  = np.asarray(results_rnn[1]).ravel()\n",
    "rnn_3  = np.asarray(results_rnn[2]).ravel()\n",
    "lstm_1 = np.asarray(results_lstm[0]).ravel()\n",
    "lstm_2 = np.asarray(results_lstm[1]).ravel()\n",
    "lstm_3 = np.asarray(results_lstm[2]).ravel()\n",
    "gru_1  = np.asarray(results_gru[0]).ravel()\n",
    "gru_2  = np.asarray(results_gru[1]).ravel()\n",
    "gru_3  = np.asarray(results_gru[2]).ravel()\n",
    "\n",
    "# 3) Gộp lại thành DataFrame dạng long\n",
    "def stack_model_values(values_list, model_name):\n",
    "    \"\"\"Chuyển 3 mảng value thành long-format DataFrame\"\"\"\n",
    "    dfs = []\n",
    "    for i, values in enumerate(values_list, start=1):\n",
    "        df = pd.DataFrame({\n",
    "            'thoi_gian': dates_cat,\n",
    "            'model': model_name,\n",
    "            'value': values,\n",
    "            'replicate': f'run_{i}'  # ghi nhận lần chạy để theo dõi\n",
    "        })\n",
    "        dfs.append(df)\n",
    "    return pd.concat(dfs, ignore_index=True)\n",
    "\n",
    "df_rnn  = stack_model_values([rnn_1, rnn_2, rnn_3], 'RNN')\n",
    "df_lstm = stack_model_values([lstm_1, lstm_2, lstm_3], 'LSTM')\n",
    "df_gru  = stack_model_values([gru_1, gru_2, gru_3], 'GRU')\n",
    "\n",
    "# 4) Gộp toàn bộ lại\n",
    "df_anova = pd.concat([df_rnn, df_lstm, df_gru], ignore_index=True)\n",
    "df_anova['model'] = df_anova['model'].astype('category')\n",
    "df_anova['thoi_gian'] = df_anova['thoi_gian'].astype('category')\n",
    "\n",
    "# 5) Debug nhanh trước khi ANOVA\n",
    "print(\"Shape of df_anova:\", df_anova.shape)\n",
    "print(df_anova.head())\n",
    "print(df_anova['value'].describe())\n",
    "\n",
    "# 6) Chạy ANOVA hai chiều CÓ interaction\n",
    "fit_inter = ols('value ~ C(model) + C(thoi_gian) + C(model):C(thoi_gian)', data=df_anova).fit()\n",
    "anova_table = sm.stats.anova_lm(fit_inter, typ=2)\n",
    "print(anova_table)"
   ]
  }
 ],
 "metadata": {
  "kernelspec": {
   "display_name": "Python 3",
   "language": "python",
   "name": "python3"
  },
  "language_info": {
   "codemirror_mode": {
    "name": "ipython",
    "version": 3
   },
   "file_extension": ".py",
   "mimetype": "text/x-python",
   "name": "python",
   "nbconvert_exporter": "python",
   "pygments_lexer": "ipython3",
   "version": "3.9.10"
  }
 },
 "nbformat": 4,
 "nbformat_minor": 2
}
